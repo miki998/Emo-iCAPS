{
 "cells": [
  {
   "cell_type": "markdown",
   "id": "a5fac0c9",
   "metadata": {},
   "source": [
    "#### OS-level operations"
   ]
  },
  {
   "cell_type": "code",
   "execution_count": null,
   "id": "740b4cdc",
   "metadata": {},
   "outputs": [],
   "source": [
    "# list all pathings\n",
    "sub_ID = ['S19']\n",
    "_dir = \"/media/miplab-nas2/Data2/Movies_Emo/Michael/DATA/fmri_tcs/\"\n",
    "\n",
    "_all = []\n",
    "for ID in sub_ID:\n",
    "    try :\n",
    "        o_f = os.path.join(_dir,f\"sub-{ID}/**/*.feat/TA_results/*\")\n",
    "        o_f = glob.glob(o_f, recursive=True)\n",
    "        for k in range(len(o_f)):\n",
    "            _all.append('/'.join(o_f[k].split('/')[:-1]) +'/')\n",
    "    except:\n",
    "        print(\"Something went wrong with file reading\")"
   ]
  },
  {
   "cell_type": "code",
   "execution_count": null,
   "id": "0552f493",
   "metadata": {},
   "outputs": [],
   "source": [
    "for file in _all:\n",
    "    if 'TA_Sep22' in os.listdir(file):\n",
    "        os.rename(file+'TA_Sep22/', file + 'iCAPS_Emo/')\n",
    "    else:\n",
    "        continue"
   ]
  }
 ],
 "metadata": {
  "kernelspec": {
   "display_name": "Python 3 (ipykernel)",
   "language": "python",
   "name": "python3"
  },
  "language_info": {
   "codemirror_mode": {
    "name": "ipython",
    "version": 3
   },
   "file_extension": ".py",
   "mimetype": "text/x-python",
   "name": "python",
   "nbconvert_exporter": "python",
   "pygments_lexer": "ipython3",
   "version": "3.8.16"
  }
 },
 "nbformat": 4,
 "nbformat_minor": 5
}
