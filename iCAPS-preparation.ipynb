{
 "cells": [
  {
   "cell_type": "code",
   "execution_count": 1,
   "id": "45fc8f69",
   "metadata": {},
   "outputs": [],
   "source": [
    "from src import *"
   ]
  },
  {
   "cell_type": "markdown",
   "id": "a5fac0c9",
   "metadata": {},
   "source": [
    "#### OS-level operations"
   ]
  },
  {
   "cell_type": "markdown",
   "id": "d99620de",
   "metadata": {},
   "source": [
    "Rename folders from thresholding to newer folder name"
   ]
  },
  {
   "cell_type": "code",
   "execution_count": null,
   "id": "740b4cdc",
   "metadata": {},
   "outputs": [],
   "source": [
    "# list all pathings\n",
    "sub_ID = ['S19']\n",
    "_dir = \"/media/miplab-nas2/Data2/Movies_Emo/Michael/DATA/fmri_tcs/\"\n",
    "\n",
    "_all = []\n",
    "for ID in sub_ID:\n",
    "    try :\n",
    "        o_f = os.path.join(_dir,f\"sub-{ID}/**/*.feat/TA_results/*\")\n",
    "        o_f = glob.glob(o_f, recursive=True)\n",
    "        for k in range(len(o_f)):\n",
    "            _all.append('/'.join(o_f[k].split('/')[:-1]) +'/')\n",
    "    except:\n",
    "        print(\"Something went wrong with file reading\")"
   ]
  },
  {
   "cell_type": "code",
   "execution_count": null,
   "id": "0552f493",
   "metadata": {},
   "outputs": [],
   "source": [
    "for file in _all:\n",
    "    if 'TA_Sep22' in os.listdir(file):\n",
    "        os.rename(file+'TA_Sep22/', file + 'iCAPS_Emo/')\n",
    "    else:\n",
    "        continue"
   ]
  },
  {
   "cell_type": "markdown",
   "id": "5f8f2d24",
   "metadata": {},
   "source": [
    "Generate pathnames to convert to MNIs"
   ]
  },
  {
   "cell_type": "code",
   "execution_count": 2,
   "id": "89bbb5da",
   "metadata": {},
   "outputs": [],
   "source": [
    "# list all pathings\n",
    "sub_ID = ['S19']\n",
    "_dir = \"/media/miplab-nas2/Data2/Movies_Emo/Michael/DATA/fmri_tcs/\"\n",
    "\n",
    "_all = []\n",
    "for ID in sub_ID:\n",
    "    try :\n",
    "        o_f = os.path.join(_dir,f\"sub-{ID}/**/*.feat/TA_results/iCAPS_Emo/**/Activity_inducing_MNI.nii.gz\")\n",
    "        o_f = glob.glob(o_f, recursive=True)\n",
    "        for k in range(len(o_f)):\n",
    "            _all.append('/'.join(o_f[k].split('/')[:-1]) +'/')\n",
    "    except:\n",
    "        print(\"Something went wrong with file reading\")"
   ]
  },
  {
   "cell_type": "code",
   "execution_count": 3,
   "id": "58aeb805",
   "metadata": {},
   "outputs": [],
   "source": [
    "tmp_all = []\n",
    "for _iter in _all:\n",
    "    tmp_all.append(_iter[57:-37])"
   ]
  },
  {
   "cell_type": "code",
   "execution_count": 8,
   "id": "73e1d2c5",
   "metadata": {},
   "outputs": [
    {
     "data": {
      "text/plain": [
       "\"/sub-S19/ses-1/pp_sub-S19_ses-1_YouAgain.feat/', '/sub-S19/ses-1/pp_sub-S19_ses-1_BetweenViewings.feat/', '/sub-S19/ses-1/pp_sub-S19_ses-1_Rest.feat/', '/sub-S19/ses-4/pp_sub-S19_ses-4_Sintel.feat/', '/sub-S19/ses-2/pp_sub-S19_ses-2_FirstBite.feat/', '/sub-S19/ses-2/pp_sub-S19_ses-2_TearsOfSteel.feat/', '/sub-S19/ses-1/pp_sub-S19_ses-1_AfterTheRain.feat/', '/sub-S19/ses-4/pp_sub-S19_ses-4_Superhero.feat/', '/sub-S19/ses-2/pp_sub-S19_ses-2_BigBuckBunny.feat/', '/sub-S19/ses-3/pp_sub-S19_ses-3_LessonLearned.feat/', '/sub-S19/ses-4/pp_sub-S19_ses-4_Spaceman.feat/', '/sub-S19/ses-2/pp_sub-S19_ses-2_TheSecretNumber.feat/', '/sub-S19/ses-3/pp_sub-S19_ses-3_Payload.feat/', '/sub-S19/ses-2/pp_sub-S19_ses-2_Chatter.feat/', '/sub-S19/ses-3/pp_sub-S19_ses-3_ToClaireFromSonny.feat/\""
      ]
     },
     "execution_count": 8,
     "metadata": {},
     "output_type": "execute_result"
    }
   ],
   "source": [
    "'\\', \\''.join(list(set(tmp_all)))"
   ]
  },
  {
   "cell_type": "code",
   "execution_count": 7,
   "id": "033f2209",
   "metadata": {},
   "outputs": [
    {
     "data": {
      "text/plain": [
       "\"/media/miplab-nas2/Data2/Movies_Emo/Michael/DATA/fmri_tcs/sub-S19/ses-3/pp_sub-S19_ses-3_Payload.feat/TA_results/iCAPS_Emo/TotalActivation/', '/media/miplab-nas2/Data2/Movies_Emo/Michael/DATA/fmri_tcs/sub-S19/ses-1/pp_sub-S19_ses-1_BetweenViewings.feat/TA_results/iCAPS_Emo/TotalActivation/', '/media/miplab-nas2/Data2/Movies_Emo/Michael/DATA/fmri_tcs/sub-S19/ses-4/pp_sub-S19_ses-4_Spaceman.feat/TA_results/iCAPS_Emo/TotalActivation/', '/media/miplab-nas2/Data2/Movies_Emo/Michael/DATA/fmri_tcs/sub-S19/ses-1/pp_sub-S19_ses-1_Rest.feat/TA_results/iCAPS_Emo/TotalActivation/', '/media/miplab-nas2/Data2/Movies_Emo/Michael/DATA/fmri_tcs/sub-S19/ses-4/pp_sub-S19_ses-4_Superhero.feat/TA_results/iCAPS_Emo/TotalActivation/', '/media/miplab-nas2/Data2/Movies_Emo/Michael/DATA/fmri_tcs/sub-S19/ses-4/pp_sub-S19_ses-4_Sintel.feat/TA_results/iCAPS_Emo/TotalActivation/', '/media/miplab-nas2/Data2/Movies_Emo/Michael/DATA/fmri_tcs/sub-S19/ses-2/pp_sub-S19_ses-2_TearsOfSteel.feat/TA_results/iCAPS_Emo/TotalActivation/', '/media/miplab-nas2/Data2/Movies_Emo/Michael/DATA/fmri_tcs/sub-S19/ses-3/pp_sub-S19_ses-3_ToClaireFromSonny.feat/TA_results/iCAPS_Emo/TotalActivation/', '/media/miplab-nas2/Data2/Movies_Emo/Michael/DATA/fmri_tcs/sub-S19/ses-3/pp_sub-S19_ses-3_LessonLearned.feat/TA_results/iCAPS_Emo/TotalActivation/', '/media/miplab-nas2/Data2/Movies_Emo/Michael/DATA/fmri_tcs/sub-S19/ses-2/pp_sub-S19_ses-2_FirstBite.feat/TA_results/iCAPS_Emo/TotalActivation/', '/media/miplab-nas2/Data2/Movies_Emo/Michael/DATA/fmri_tcs/sub-S19/ses-2/pp_sub-S19_ses-2_TheSecretNumber.feat/TA_results/iCAPS_Emo/TotalActivation/', '/media/miplab-nas2/Data2/Movies_Emo/Michael/DATA/fmri_tcs/sub-S19/ses-1/pp_sub-S19_ses-1_AfterTheRain.feat/TA_results/iCAPS_Emo/TotalActivation/', '/media/miplab-nas2/Data2/Movies_Emo/Michael/DATA/fmri_tcs/sub-S19/ses-1/pp_sub-S19_ses-1_YouAgain.feat/TA_results/iCAPS_Emo/TotalActivation/', '/media/miplab-nas2/Data2/Movies_Emo/Michael/DATA/fmri_tcs/sub-S19/ses-2/pp_sub-S19_ses-2_Chatter.feat/TA_results/iCAPS_Emo/TotalActivation/', '/media/miplab-nas2/Data2/Movies_Emo/Michael/DATA/fmri_tcs/sub-S19/ses-2/pp_sub-S19_ses-2_BigBuckBunny.feat/TA_results/iCAPS_Emo/TotalActivation/\""
      ]
     },
     "execution_count": 7,
     "metadata": {},
     "output_type": "execute_result"
    }
   ],
   "source": [
    "'\\', \\''.join(list(set(_all)))"
   ]
  },
  {
   "cell_type": "markdown",
   "id": "52455bae",
   "metadata": {},
   "source": [
    "Needed to run before running Timecourses regression matlab script"
   ]
  },
  {
   "cell_type": "code",
   "execution_count": null,
   "id": "ff64555d",
   "metadata": {},
   "outputs": [],
   "source": [
    "# preprocess of activity inducing mat to remove the nans\n",
    "_id = 'S19'\n",
    "tmpAI = mat73.loadmat('/media/miplab-nas2/Data2/Movies_Emo/Michael/DATA/fmri_tcs/iCAPs_results/iCAPS_Emo_Movies_sub-{}_Alpha_5_95_Fraction_0DOT05/oriAI.mat'.format(_id))\n",
    "hdf5storage.write({'AI':np.nan_to_num(tmpAI['AI'])}, path='.',\n",
    "                    filename='AI.mat',\n",
    "                      matlab_compatible=True)\n",
    "\n",
    "import shutil\n",
    "shutil.move(\"./AI.mat\", '/media/miplab-nas2/Data2/Movies_Emo/Michael/DATA/fmri_tcs/iCAPs_results/iCAPS_Emo_Movies_sub-{}_Alpha_5_95_Fraction_0DOT05/AI.mat'.format(_id))"
   ]
  }
 ],
 "metadata": {
  "kernelspec": {
   "display_name": "Python 3 (ipykernel)",
   "language": "python",
   "name": "python3"
  },
  "language_info": {
   "codemirror_mode": {
    "name": "ipython",
    "version": 3
   },
   "file_extension": ".py",
   "mimetype": "text/x-python",
   "name": "python",
   "nbconvert_exporter": "python",
   "pygments_lexer": "ipython3",
   "version": "3.8.16"
  }
 },
 "nbformat": 4,
 "nbformat_minor": 5
}
